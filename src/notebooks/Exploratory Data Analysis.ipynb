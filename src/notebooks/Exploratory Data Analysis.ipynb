{
 "cells": [
  {
   "cell_type": "markdown",
   "id": "d08475f2",
   "metadata": {},
   "source": [
    "# Import Libraries"
   ]
  },
  {
   "cell_type": "code",
   "execution_count": 3,
   "id": "2e87b46b",
   "metadata": {},
   "outputs": [],
   "source": [
    "import pandas as pd\n",
    "import plotly.express as px\n"
   ]
  },
  {
   "cell_type": "markdown",
   "id": "8d7fc17c",
   "metadata": {},
   "source": [
    "# Load the Dataset"
   ]
  },
  {
   "cell_type": "code",
   "execution_count": 4,
   "id": "0af7cfbb",
   "metadata": {},
   "outputs": [],
   "source": [
    "df = pd.read_csv(\"../../data/ubs-mobile-app-reviews.csv\")"
   ]
  },
  {
   "cell_type": "code",
   "execution_count": 5,
   "id": "75ba3eeb",
   "metadata": {},
   "outputs": [
    {
     "data": {
      "text/plain": [
       "(1572, 11)"
      ]
     },
     "execution_count": 5,
     "metadata": {},
     "output_type": "execute_result"
    }
   ],
   "source": [
    "df.shape"
   ]
  },
  {
   "cell_type": "code",
   "execution_count": 6,
   "id": "d77d672f",
   "metadata": {},
   "outputs": [
    {
     "data": {
      "text/plain": [
       "Index(['Unnamed: 0', 'reviewId', 'userName', 'userImage', 'content', 'score',\n",
       "       'thumbsUpCount', 'reviewCreatedVersion', 'at', 'replyContent',\n",
       "       'repliedAt'],\n",
       "      dtype='object')"
      ]
     },
     "execution_count": 6,
     "metadata": {},
     "output_type": "execute_result"
    }
   ],
   "source": [
    "df.columns"
   ]
  },
  {
   "cell_type": "code",
   "execution_count": 7,
   "id": "f644cf6d",
   "metadata": {},
   "outputs": [
    {
     "data": {
      "text/plain": [
       "(1572, 11)"
      ]
     },
     "execution_count": 7,
     "metadata": {},
     "output_type": "execute_result"
    }
   ],
   "source": [
    "df.shape"
   ]
  },
  {
   "cell_type": "code",
   "execution_count": 8,
   "id": "90c57269",
   "metadata": {},
   "outputs": [
    {
     "data": {
      "text/html": [
       "<div>\n",
       "<style scoped>\n",
       "    .dataframe tbody tr th:only-of-type {\n",
       "        vertical-align: middle;\n",
       "    }\n",
       "\n",
       "    .dataframe tbody tr th {\n",
       "        vertical-align: top;\n",
       "    }\n",
       "\n",
       "    .dataframe thead th {\n",
       "        text-align: right;\n",
       "    }\n",
       "</style>\n",
       "<table border=\"1\" class=\"dataframe\">\n",
       "  <thead>\n",
       "    <tr style=\"text-align: right;\">\n",
       "      <th></th>\n",
       "      <th>Unnamed: 0</th>\n",
       "      <th>reviewId</th>\n",
       "      <th>userName</th>\n",
       "      <th>userImage</th>\n",
       "      <th>content</th>\n",
       "      <th>score</th>\n",
       "      <th>thumbsUpCount</th>\n",
       "      <th>reviewCreatedVersion</th>\n",
       "      <th>at</th>\n",
       "      <th>replyContent</th>\n",
       "      <th>repliedAt</th>\n",
       "    </tr>\n",
       "  </thead>\n",
       "  <tbody>\n",
       "    <tr>\n",
       "      <th>0</th>\n",
       "      <td>0</td>\n",
       "      <td>gp:AOqpTOFKM8vyKDl8bQv21U8i2O8m6EdIkpCn8XNWJYj...</td>\n",
       "      <td>yoann mii</td>\n",
       "      <td>https://play-lh.googleusercontent.com/a/AATXAJ...</td>\n",
       "      <td>doesnt work on many phones and full of bugs</td>\n",
       "      <td>1</td>\n",
       "      <td>0</td>\n",
       "      <td>12.5.64086</td>\n",
       "      <td>2022-06-02 17:06:19</td>\n",
       "      <td>Thank you for your feedback &amp; please excuse th...</td>\n",
       "      <td>2022-06-03 13:51:16</td>\n",
       "    </tr>\n",
       "    <tr>\n",
       "      <th>1</th>\n",
       "      <td>1</td>\n",
       "      <td>gp:AOqpTOGpGnFdSoTVSpYBE-XY0td_ZsoQX9lbL_aHZAc...</td>\n",
       "      <td>Pratik Gilda</td>\n",
       "      <td>https://play-lh.googleusercontent.com/a-/AOh14...</td>\n",
       "      <td>Update on 2-june-22: unable to login with acce...</td>\n",
       "      <td>1</td>\n",
       "      <td>1</td>\n",
       "      <td>12.5.64086</td>\n",
       "      <td>2022-06-02 16:06:12</td>\n",
       "      <td>Thank you very much for your patience and plea...</td>\n",
       "      <td>2022-06-03 14:52:29</td>\n",
       "    </tr>\n",
       "    <tr>\n",
       "      <th>2</th>\n",
       "      <td>2</td>\n",
       "      <td>gp:AOqpTOEPnZAw5fgoez35bU4IvWwSKSrfuWkwFs4USPK...</td>\n",
       "      <td>Radosław Kania</td>\n",
       "      <td>https://play-lh.googleusercontent.com/a/AATXAJ...</td>\n",
       "      <td>app is very slow. additional app for access in...</td>\n",
       "      <td>3</td>\n",
       "      <td>0</td>\n",
       "      <td>12.5.64086</td>\n",
       "      <td>2022-06-01 22:39:43</td>\n",
       "      <td>Thank you for your feedback &amp; please excuse th...</td>\n",
       "      <td>2022-06-02 16:19:20</td>\n",
       "    </tr>\n",
       "    <tr>\n",
       "      <th>3</th>\n",
       "      <td>3</td>\n",
       "      <td>gp:AOqpTOEFeYQ8CVjsVT-13q2tNJWFbabIEiOupsx5hkb...</td>\n",
       "      <td>adi leist</td>\n",
       "      <td>https://play-lh.googleusercontent.com/a/AATXAJ...</td>\n",
       "      <td>Lots of bugs since the last release. 1) QR pay...</td>\n",
       "      <td>1</td>\n",
       "      <td>0</td>\n",
       "      <td>12.5.64086</td>\n",
       "      <td>2022-06-01 16:59:37</td>\n",
       "      <td>NaN</td>\n",
       "      <td>NaN</td>\n",
       "    </tr>\n",
       "    <tr>\n",
       "      <th>4</th>\n",
       "      <td>4</td>\n",
       "      <td>gp:AOqpTOHuzvbKRc8XzFCdmtUOlm95WTBzIDbDiLJ-na3...</td>\n",
       "      <td>Escoffery Babatunde</td>\n",
       "      <td>https://play-lh.googleusercontent.com/a/AATXAJ...</td>\n",
       "      <td>Can't pay the ebills if the payments feature d...</td>\n",
       "      <td>2</td>\n",
       "      <td>4</td>\n",
       "      <td>12.5.64086</td>\n",
       "      <td>2022-06-01 10:51:45</td>\n",
       "      <td>Please excuse the inconvenience. The problem r...</td>\n",
       "      <td>2022-06-01 16:14:48</td>\n",
       "    </tr>\n",
       "    <tr>\n",
       "      <th>5</th>\n",
       "      <td>5</td>\n",
       "      <td>gp:AOqpTOF0ctTy_NBziTPMsUU3ctY3aOqqzrzhkoiapzz...</td>\n",
       "      <td>Michael Niestroy</td>\n",
       "      <td>https://play-lh.googleusercontent.com/a/AATXAJ...</td>\n",
       "      <td>App does not even start, just hangs on the UBS...</td>\n",
       "      <td>1</td>\n",
       "      <td>0</td>\n",
       "      <td>12.5.64086</td>\n",
       "      <td>2022-05-31 13:47:05</td>\n",
       "      <td>Thank you for your feedback and please excuse ...</td>\n",
       "      <td>2022-05-31 16:34:13</td>\n",
       "    </tr>\n",
       "    <tr>\n",
       "      <th>6</th>\n",
       "      <td>6</td>\n",
       "      <td>gp:AOqpTOFogokwmaeuNca6vbfn0RGxQtCsBjXSMBaVxii...</td>\n",
       "      <td>Tammam Shono</td>\n",
       "      <td>https://play-lh.googleusercontent.com/a-/AOh14...</td>\n",
       "      <td>Thank you UBS for breaking the payments functi...</td>\n",
       "      <td>1</td>\n",
       "      <td>0</td>\n",
       "      <td>12.5.64086</td>\n",
       "      <td>2022-05-30 16:59:52</td>\n",
       "      <td>Thank you for your feedback. We want to help y...</td>\n",
       "      <td>2022-05-31 16:39:27</td>\n",
       "    </tr>\n",
       "    <tr>\n",
       "      <th>7</th>\n",
       "      <td>7</td>\n",
       "      <td>gp:AOqpTOGPJdUzBwKPGoYkoXmhU4f8N2KkJ1Hu2X3fvt1...</td>\n",
       "      <td>Foulen Gf</td>\n",
       "      <td>https://play-lh.googleusercontent.com/a/AATXAJ...</td>\n",
       "      <td>Easy to use and convivial. Great app.</td>\n",
       "      <td>4</td>\n",
       "      <td>0</td>\n",
       "      <td>NaN</td>\n",
       "      <td>2022-05-30 11:20:31</td>\n",
       "      <td>Thank you for your feedback. We are glad that ...</td>\n",
       "      <td>2022-05-30 15:39:20</td>\n",
       "    </tr>\n",
       "    <tr>\n",
       "      <th>8</th>\n",
       "      <td>8</td>\n",
       "      <td>gp:AOqpTOFd7wRU99DtfC2lcFPMzSQDM5A2-98W9l9CScX...</td>\n",
       "      <td>Baljit Phull</td>\n",
       "      <td>https://play-lh.googleusercontent.com/a-/AOh14...</td>\n",
       "      <td>Poor update</td>\n",
       "      <td>1</td>\n",
       "      <td>0</td>\n",
       "      <td>12.4.56797</td>\n",
       "      <td>2022-05-30 10:00:28</td>\n",
       "      <td>Thank you for your feedback. We regret that yo...</td>\n",
       "      <td>2022-06-01 15:49:45</td>\n",
       "    </tr>\n",
       "    <tr>\n",
       "      <th>9</th>\n",
       "      <td>9</td>\n",
       "      <td>gp:AOqpTOEiDup_Vyw_gxpdWYL16cIaLNN58PxoLOL7fyd...</td>\n",
       "      <td>Efi Pylarinou</td>\n",
       "      <td>https://play-lh.googleusercontent.com/a-/AOh14...</td>\n",
       "      <td>I cant open the App anymore. It shows updated ...</td>\n",
       "      <td>1</td>\n",
       "      <td>0</td>\n",
       "      <td>12.5.64086</td>\n",
       "      <td>2022-05-29 22:42:22</td>\n",
       "      <td>We apologize for the inconvenience. Please try...</td>\n",
       "      <td>2022-05-30 17:20:57</td>\n",
       "    </tr>\n",
       "  </tbody>\n",
       "</table>\n",
       "</div>"
      ],
      "text/plain": [
       "   Unnamed: 0                                           reviewId  \\\n",
       "0           0  gp:AOqpTOFKM8vyKDl8bQv21U8i2O8m6EdIkpCn8XNWJYj...   \n",
       "1           1  gp:AOqpTOGpGnFdSoTVSpYBE-XY0td_ZsoQX9lbL_aHZAc...   \n",
       "2           2  gp:AOqpTOEPnZAw5fgoez35bU4IvWwSKSrfuWkwFs4USPK...   \n",
       "3           3  gp:AOqpTOEFeYQ8CVjsVT-13q2tNJWFbabIEiOupsx5hkb...   \n",
       "4           4  gp:AOqpTOHuzvbKRc8XzFCdmtUOlm95WTBzIDbDiLJ-na3...   \n",
       "5           5  gp:AOqpTOF0ctTy_NBziTPMsUU3ctY3aOqqzrzhkoiapzz...   \n",
       "6           6  gp:AOqpTOFogokwmaeuNca6vbfn0RGxQtCsBjXSMBaVxii...   \n",
       "7           7  gp:AOqpTOGPJdUzBwKPGoYkoXmhU4f8N2KkJ1Hu2X3fvt1...   \n",
       "8           8  gp:AOqpTOFd7wRU99DtfC2lcFPMzSQDM5A2-98W9l9CScX...   \n",
       "9           9  gp:AOqpTOEiDup_Vyw_gxpdWYL16cIaLNN58PxoLOL7fyd...   \n",
       "\n",
       "              userName                                          userImage  \\\n",
       "0            yoann mii  https://play-lh.googleusercontent.com/a/AATXAJ...   \n",
       "1         Pratik Gilda  https://play-lh.googleusercontent.com/a-/AOh14...   \n",
       "2       Radosław Kania  https://play-lh.googleusercontent.com/a/AATXAJ...   \n",
       "3            adi leist  https://play-lh.googleusercontent.com/a/AATXAJ...   \n",
       "4  Escoffery Babatunde  https://play-lh.googleusercontent.com/a/AATXAJ...   \n",
       "5     Michael Niestroy  https://play-lh.googleusercontent.com/a/AATXAJ...   \n",
       "6         Tammam Shono  https://play-lh.googleusercontent.com/a-/AOh14...   \n",
       "7            Foulen Gf  https://play-lh.googleusercontent.com/a/AATXAJ...   \n",
       "8         Baljit Phull  https://play-lh.googleusercontent.com/a-/AOh14...   \n",
       "9        Efi Pylarinou  https://play-lh.googleusercontent.com/a-/AOh14...   \n",
       "\n",
       "                                             content  score  thumbsUpCount  \\\n",
       "0        doesnt work on many phones and full of bugs      1              0   \n",
       "1  Update on 2-june-22: unable to login with acce...      1              1   \n",
       "2  app is very slow. additional app for access in...      3              0   \n",
       "3  Lots of bugs since the last release. 1) QR pay...      1              0   \n",
       "4  Can't pay the ebills if the payments feature d...      2              4   \n",
       "5  App does not even start, just hangs on the UBS...      1              0   \n",
       "6  Thank you UBS for breaking the payments functi...      1              0   \n",
       "7              Easy to use and convivial. Great app.      4              0   \n",
       "8                                        Poor update      1              0   \n",
       "9  I cant open the App anymore. It shows updated ...      1              0   \n",
       "\n",
       "  reviewCreatedVersion                   at  \\\n",
       "0           12.5.64086  2022-06-02 17:06:19   \n",
       "1           12.5.64086  2022-06-02 16:06:12   \n",
       "2           12.5.64086  2022-06-01 22:39:43   \n",
       "3           12.5.64086  2022-06-01 16:59:37   \n",
       "4           12.5.64086  2022-06-01 10:51:45   \n",
       "5           12.5.64086  2022-05-31 13:47:05   \n",
       "6           12.5.64086  2022-05-30 16:59:52   \n",
       "7                  NaN  2022-05-30 11:20:31   \n",
       "8           12.4.56797  2022-05-30 10:00:28   \n",
       "9           12.5.64086  2022-05-29 22:42:22   \n",
       "\n",
       "                                        replyContent            repliedAt  \n",
       "0  Thank you for your feedback & please excuse th...  2022-06-03 13:51:16  \n",
       "1  Thank you very much for your patience and plea...  2022-06-03 14:52:29  \n",
       "2  Thank you for your feedback & please excuse th...  2022-06-02 16:19:20  \n",
       "3                                                NaN                  NaN  \n",
       "4  Please excuse the inconvenience. The problem r...  2022-06-01 16:14:48  \n",
       "5  Thank you for your feedback and please excuse ...  2022-05-31 16:34:13  \n",
       "6  Thank you for your feedback. We want to help y...  2022-05-31 16:39:27  \n",
       "7  Thank you for your feedback. We are glad that ...  2022-05-30 15:39:20  \n",
       "8  Thank you for your feedback. We regret that yo...  2022-06-01 15:49:45  \n",
       "9  We apologize for the inconvenience. Please try...  2022-05-30 17:20:57  "
      ]
     },
     "execution_count": 8,
     "metadata": {},
     "output_type": "execute_result"
    }
   ],
   "source": [
    "df.head(10)"
   ]
  },
  {
   "cell_type": "code",
   "execution_count": null,
   "id": "9546c636",
   "metadata": {},
   "outputs": [],
   "source": [
    "scores_df = df.groupby(by=[\"score\"]).size().reset_index(name=\"counts\")\n",
    "px.bar(data_frame=scores_df, x=\"score\",y=\"counts\")\n"
   ]
  },
  {
   "cell_type": "code",
   "execution_count": null,
   "id": "9d25d4db",
   "metadata": {},
   "outputs": [],
   "source": []
  }
 ],
 "metadata": {
  "kernelspec": {
   "display_name": "Topic Modeling Env",
   "language": "python",
   "name": "topic-modeling"
  },
  "language_info": {
   "codemirror_mode": {
    "name": "ipython",
    "version": 3
   },
   "file_extension": ".py",
   "mimetype": "text/x-python",
   "name": "python",
   "nbconvert_exporter": "python",
   "pygments_lexer": "ipython3",
   "version": "3.7.11"
  },
  "toc": {
   "base_numbering": 1,
   "nav_menu": {},
   "number_sections": true,
   "sideBar": true,
   "skip_h1_title": false,
   "title_cell": "Table of Contents",
   "title_sidebar": "Contents",
   "toc_cell": false,
   "toc_position": {},
   "toc_section_display": true,
   "toc_window_display": true
  }
 },
 "nbformat": 4,
 "nbformat_minor": 5
}

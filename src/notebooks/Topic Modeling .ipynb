{
 "cells": [
  {
   "cell_type": "markdown",
   "id": "1bfd82ea",
   "metadata": {},
   "source": [
    "# Import Libraries"
   ]
  },
  {
   "cell_type": "code",
   "execution_count": 1,
   "id": "678706dc",
   "metadata": {},
   "outputs": [],
   "source": [
    "import pandas as pd\n",
    "import plotly.express as px\n"
   ]
  },
  {
   "cell_type": "markdown",
   "id": "cd9cd427",
   "metadata": {},
   "source": [
    "# Load the Dataset"
   ]
  },
  {
   "cell_type": "code",
   "execution_count": 2,
   "id": "76e02590",
   "metadata": {},
   "outputs": [],
   "source": [
    "df = pd.read_csv(\"../../data/ubs-mobile-app-reviews-clean.csv\")"
   ]
  },
  {
   "cell_type": "code",
   "execution_count": 3,
   "id": "a2652227",
   "metadata": {},
   "outputs": [
    {
     "data": {
      "text/plain": [
       "(1570, 13)"
      ]
     },
     "execution_count": 3,
     "metadata": {},
     "output_type": "execute_result"
    }
   ],
   "source": [
    "df.shape"
   ]
  },
  {
   "cell_type": "code",
   "execution_count": 4,
   "id": "d452a311",
   "metadata": {},
   "outputs": [
    {
     "data": {
      "text/plain": [
       "Index(['Unnamed: 0', 'Unnamed: 0.1', 'reviewId', 'userName', 'userImage',\n",
       "       'content', 'score', 'thumbsUpCount', 'reviewCreatedVersion', 'at',\n",
       "       'replyContent', 'repliedAt', 'clean_content'],\n",
       "      dtype='object')"
      ]
     },
     "execution_count": 4,
     "metadata": {},
     "output_type": "execute_result"
    }
   ],
   "source": [
    "df.columns"
   ]
  },
  {
   "cell_type": "code",
   "execution_count": 6,
   "id": "24a9c724",
   "metadata": {},
   "outputs": [
    {
     "data": {
      "text/html": [
       "<div>\n",
       "<style scoped>\n",
       "    .dataframe tbody tr th:only-of-type {\n",
       "        vertical-align: middle;\n",
       "    }\n",
       "\n",
       "    .dataframe tbody tr th {\n",
       "        vertical-align: top;\n",
       "    }\n",
       "\n",
       "    .dataframe thead th {\n",
       "        text-align: right;\n",
       "    }\n",
       "</style>\n",
       "<table border=\"1\" class=\"dataframe\">\n",
       "  <thead>\n",
       "    <tr style=\"text-align: right;\">\n",
       "      <th></th>\n",
       "      <th>Unnamed: 0</th>\n",
       "      <th>Unnamed: 0.1</th>\n",
       "      <th>reviewId</th>\n",
       "      <th>userName</th>\n",
       "      <th>userImage</th>\n",
       "      <th>content</th>\n",
       "      <th>score</th>\n",
       "      <th>thumbsUpCount</th>\n",
       "      <th>reviewCreatedVersion</th>\n",
       "      <th>at</th>\n",
       "      <th>replyContent</th>\n",
       "      <th>repliedAt</th>\n",
       "      <th>clean_content</th>\n",
       "    </tr>\n",
       "  </thead>\n",
       "  <tbody>\n",
       "    <tr>\n",
       "      <th>0</th>\n",
       "      <td>0</td>\n",
       "      <td>0</td>\n",
       "      <td>gp:AOqpTOFKM8vyKDl8bQv21U8i2O8m6EdIkpCn8XNWJYj...</td>\n",
       "      <td>yoann mii</td>\n",
       "      <td>https://play-lh.googleusercontent.com/a/AATXAJ...</td>\n",
       "      <td>doesnt work on many phones and full of bugs</td>\n",
       "      <td>1</td>\n",
       "      <td>0</td>\n",
       "      <td>12.5.64086</td>\n",
       "      <td>2022-06-02 17:06:19</td>\n",
       "      <td>Thank you for your feedback &amp; please excuse th...</td>\n",
       "      <td>2022-06-03 13:51:16</td>\n",
       "      <td>doesnt work phones bugs</td>\n",
       "    </tr>\n",
       "    <tr>\n",
       "      <th>1</th>\n",
       "      <td>1</td>\n",
       "      <td>1</td>\n",
       "      <td>gp:AOqpTOGpGnFdSoTVSpYBE-XY0td_ZsoQX9lbL_aHZAc...</td>\n",
       "      <td>Pratik Gilda</td>\n",
       "      <td>https://play-lh.googleusercontent.com/a-/AOh14...</td>\n",
       "      <td>Update on 2-june-22: unable to login with acce...</td>\n",
       "      <td>1</td>\n",
       "      <td>1</td>\n",
       "      <td>12.5.64086</td>\n",
       "      <td>2022-06-02 16:06:12</td>\n",
       "      <td>Thank you very much for your patience and plea...</td>\n",
       "      <td>2022-06-03 14:52:29</td>\n",
       "      <td>update june unable login access app update</td>\n",
       "    </tr>\n",
       "    <tr>\n",
       "      <th>2</th>\n",
       "      <td>2</td>\n",
       "      <td>2</td>\n",
       "      <td>gp:AOqpTOEPnZAw5fgoez35bU4IvWwSKSrfuWkwFs4USPK...</td>\n",
       "      <td>Radosław Kania</td>\n",
       "      <td>https://play-lh.googleusercontent.com/a/AATXAJ...</td>\n",
       "      <td>app is very slow. additional app for access in...</td>\n",
       "      <td>3</td>\n",
       "      <td>0</td>\n",
       "      <td>12.5.64086</td>\n",
       "      <td>2022-06-01 22:39:43</td>\n",
       "      <td>Thank you for your feedback &amp; please excuse th...</td>\n",
       "      <td>2022-06-02 16:19:20</td>\n",
       "      <td>app slow additional app access shocker</td>\n",
       "    </tr>\n",
       "    <tr>\n",
       "      <th>3</th>\n",
       "      <td>3</td>\n",
       "      <td>3</td>\n",
       "      <td>gp:AOqpTOEFeYQ8CVjsVT-13q2tNJWFbabIEiOupsx5hkb...</td>\n",
       "      <td>adi leist</td>\n",
       "      <td>https://play-lh.googleusercontent.com/a/AATXAJ...</td>\n",
       "      <td>Lots of bugs since the last release. 1) QR pay...</td>\n",
       "      <td>1</td>\n",
       "      <td>0</td>\n",
       "      <td>12.5.64086</td>\n",
       "      <td>2022-06-01 16:59:37</td>\n",
       "      <td>NaN</td>\n",
       "      <td>NaN</td>\n",
       "      <td>lots bugs release payments scanning function d...</td>\n",
       "    </tr>\n",
       "    <tr>\n",
       "      <th>4</th>\n",
       "      <td>4</td>\n",
       "      <td>4</td>\n",
       "      <td>gp:AOqpTOHuzvbKRc8XzFCdmtUOlm95WTBzIDbDiLJ-na3...</td>\n",
       "      <td>Escoffery Babatunde</td>\n",
       "      <td>https://play-lh.googleusercontent.com/a/AATXAJ...</td>\n",
       "      <td>Can't pay the ebills if the payments feature d...</td>\n",
       "      <td>2</td>\n",
       "      <td>4</td>\n",
       "      <td>12.5.64086</td>\n",
       "      <td>2022-06-01 10:51:45</td>\n",
       "      <td>Please excuse the inconvenience. The problem r...</td>\n",
       "      <td>2022-06-01 16:14:48</td>\n",
       "      <td>pay bills payments feature doesnt work shows b...</td>\n",
       "    </tr>\n",
       "  </tbody>\n",
       "</table>\n",
       "</div>"
      ],
      "text/plain": [
       "   Unnamed: 0  Unnamed: 0.1  \\\n",
       "0           0             0   \n",
       "1           1             1   \n",
       "2           2             2   \n",
       "3           3             3   \n",
       "4           4             4   \n",
       "\n",
       "                                            reviewId             userName  \\\n",
       "0  gp:AOqpTOFKM8vyKDl8bQv21U8i2O8m6EdIkpCn8XNWJYj...            yoann mii   \n",
       "1  gp:AOqpTOGpGnFdSoTVSpYBE-XY0td_ZsoQX9lbL_aHZAc...         Pratik Gilda   \n",
       "2  gp:AOqpTOEPnZAw5fgoez35bU4IvWwSKSrfuWkwFs4USPK...       Radosław Kania   \n",
       "3  gp:AOqpTOEFeYQ8CVjsVT-13q2tNJWFbabIEiOupsx5hkb...            adi leist   \n",
       "4  gp:AOqpTOHuzvbKRc8XzFCdmtUOlm95WTBzIDbDiLJ-na3...  Escoffery Babatunde   \n",
       "\n",
       "                                           userImage  \\\n",
       "0  https://play-lh.googleusercontent.com/a/AATXAJ...   \n",
       "1  https://play-lh.googleusercontent.com/a-/AOh14...   \n",
       "2  https://play-lh.googleusercontent.com/a/AATXAJ...   \n",
       "3  https://play-lh.googleusercontent.com/a/AATXAJ...   \n",
       "4  https://play-lh.googleusercontent.com/a/AATXAJ...   \n",
       "\n",
       "                                             content  score  thumbsUpCount  \\\n",
       "0        doesnt work on many phones and full of bugs      1              0   \n",
       "1  Update on 2-june-22: unable to login with acce...      1              1   \n",
       "2  app is very slow. additional app for access in...      3              0   \n",
       "3  Lots of bugs since the last release. 1) QR pay...      1              0   \n",
       "4  Can't pay the ebills if the payments feature d...      2              4   \n",
       "\n",
       "  reviewCreatedVersion                   at  \\\n",
       "0           12.5.64086  2022-06-02 17:06:19   \n",
       "1           12.5.64086  2022-06-02 16:06:12   \n",
       "2           12.5.64086  2022-06-01 22:39:43   \n",
       "3           12.5.64086  2022-06-01 16:59:37   \n",
       "4           12.5.64086  2022-06-01 10:51:45   \n",
       "\n",
       "                                        replyContent            repliedAt  \\\n",
       "0  Thank you for your feedback & please excuse th...  2022-06-03 13:51:16   \n",
       "1  Thank you very much for your patience and plea...  2022-06-03 14:52:29   \n",
       "2  Thank you for your feedback & please excuse th...  2022-06-02 16:19:20   \n",
       "3                                                NaN                  NaN   \n",
       "4  Please excuse the inconvenience. The problem r...  2022-06-01 16:14:48   \n",
       "\n",
       "                                       clean_content  \n",
       "0                            doesnt work phones bugs  \n",
       "1         update june unable login access app update  \n",
       "2             app slow additional app access shocker  \n",
       "3  lots bugs release payments scanning function d...  \n",
       "4  pay bills payments feature doesnt work shows b...  "
      ]
     },
     "execution_count": 6,
     "metadata": {},
     "output_type": "execute_result"
    }
   ],
   "source": [
    "df.head(5)"
   ]
  },
  {
   "cell_type": "code",
   "execution_count": null,
   "id": "39a17e12",
   "metadata": {},
   "outputs": [],
   "source": []
  }
 ],
 "metadata": {
  "kernelspec": {
   "display_name": "Topic Modeling Env",
   "language": "python",
   "name": "topic-modeling"
  },
  "language_info": {
   "codemirror_mode": {
    "name": "ipython",
    "version": 3
   },
   "file_extension": ".py",
   "mimetype": "text/x-python",
   "name": "python",
   "nbconvert_exporter": "python",
   "pygments_lexer": "ipython3",
   "version": "3.7.11"
  },
  "toc": {
   "base_numbering": 1,
   "nav_menu": {},
   "number_sections": true,
   "sideBar": true,
   "skip_h1_title": false,
   "title_cell": "Table of Contents",
   "title_sidebar": "Contents",
   "toc_cell": false,
   "toc_position": {},
   "toc_section_display": true,
   "toc_window_display": true
  }
 },
 "nbformat": 4,
 "nbformat_minor": 5
}
